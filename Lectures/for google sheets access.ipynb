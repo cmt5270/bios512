{
 "cells": [
  {
   "cell_type": "code",
   "execution_count": 1,
   "id": "eeaf8a6a-f46f-46fd-b2e2-3953c24077b3",
   "metadata": {
    "tags": []
   },
   "outputs": [],
   "source": [
    "library('googlesheets4')"
   ]
  },
  {
   "cell_type": "code",
   "execution_count": 2,
   "id": "3b436dfa-5cf1-46b5-bcb3-8ff581871909",
   "metadata": {
    "tags": []
   },
   "outputs": [],
   "source": [
    "gs4_auth()"
   ]
  },
  {
   "cell_type": "markdown",
   "id": "931272b2-e994-455a-b99e-1ac3dd89fdaf",
   "metadata": {},
   "source": [
    "to enable Jupytr to read in this sheet, have to share it with the service account from google cloud `google-sheets-service-account@studied-zephyr-404616.iam.gserviceaccount.com`"
   ]
  },
  {
   "cell_type": "code",
   "execution_count": 6,
   "id": "f8aec498-0d99-4d8a-87a4-50b0d78e4454",
   "metadata": {
    "tags": []
   },
   "outputs": [
    {
     "name": "stderr",
     "output_type": "stream",
     "text": [
      "\u001b[32m✔\u001b[39m Reading from \u001b[36mtest-access-from-jupyter\u001b[39m.\n",
      "\n",
      "\u001b[32m✔\u001b[39m Range \u001b[33mSheet1\u001b[39m.\n",
      "\n"
     ]
    },
    {
     "data": {
      "text/html": [
       "<table class=\"dataframe\">\n",
       "<caption>A tibble: 1 × 2</caption>\n",
       "<thead>\n",
       "\t<tr><th scope=col>column</th><th scope=col>another_column</th></tr>\n",
       "\t<tr><th scope=col>&lt;chr&gt;</th><th scope=col>&lt;chr&gt;</th></tr>\n",
       "</thead>\n",
       "<tbody>\n",
       "\t<tr><td>value1</td><td>value2</td></tr>\n",
       "</tbody>\n",
       "</table>\n"
      ],
      "text/latex": [
       "A tibble: 1 × 2\n",
       "\\begin{tabular}{ll}\n",
       " column & another\\_column\\\\\n",
       " <chr> & <chr>\\\\\n",
       "\\hline\n",
       "\t value1 & value2\\\\\n",
       "\\end{tabular}\n"
      ],
      "text/markdown": [
       "\n",
       "A tibble: 1 × 2\n",
       "\n",
       "| column &lt;chr&gt; | another_column &lt;chr&gt; |\n",
       "|---|---|\n",
       "| value1 | value2 |\n",
       "\n"
      ],
      "text/plain": [
       "  column another_column\n",
       "1 value1 value2        "
      ]
     },
     "metadata": {},
     "output_type": "display_data"
    }
   ],
   "source": [
    "read_sheet('1FQRW9RoALriuBBr5oRXjX59xM5JadFA4-TH-Z9cGuYE')"
   ]
  },
  {
   "cell_type": "code",
   "execution_count": null,
   "id": "41b93015-437c-46e1-8aef-177383c8a8bc",
   "metadata": {},
   "outputs": [],
   "source": []
  }
 ],
 "metadata": {
  "kernelspec": {
   "display_name": "bios512:R",
   "language": "R",
   "name": "conda-env-bios512-r"
  },
  "language_info": {
   "codemirror_mode": "r",
   "file_extension": ".r",
   "mimetype": "text/x-r-source",
   "name": "R",
   "pygments_lexer": "r",
   "version": "4.3.1"
  }
 },
 "nbformat": 4,
 "nbformat_minor": 5
}
